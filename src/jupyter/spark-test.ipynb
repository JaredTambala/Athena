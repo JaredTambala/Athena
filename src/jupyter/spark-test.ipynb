{
 "cells": [
  {
   "cell_type": "code",
   "execution_count": 2,
   "id": "26a2c92b-7640-4ea2-8732-c38bb1b26774",
   "metadata": {},
   "outputs": [],
   "source": [
    "import pyspark\n",
    "from pyspark.sql import SparkSession\n",
    "\n",
    "print(f\"Version: {pyspark.__version__}\")\n",
    "# Initialize Spark Session with Hive support\n",
    "spark = SparkSession.builder \\\n",
    "    .appName(\"SparkHiveMinIO\") \\\n",
    "    .config(\"spark.sql.catalogImplementation\", \"hive\") \\\n",
    "    .config(\"spark.hadoop.hive.metastore.uris\", \"thrift://hive-metastore:9083\") \\\n",
    "    .config(\"spark.hadoop.fs.s3a.endpoint\", \"http://minio:9000\") \\\n",
    "    .config(\"spark.hadoop.fs.s3a.access.key\", \"jared\") \\\n",
    "    .config(\"spark.hadoop.fs.s3a.secret.key\", \"password\") \\\n",
    "    .config(\"spark.hadoop.fs.s3a.path.style.access\", \"true\") \\\n",
    "    .config(\"spark.hadoop.fs.s3a.impl\", \"org.apache.hadoop.fs.s3a.S3AFileSystem\") \\\n",
    "    .enableHiveSupport() \\\n",
    "    .getOrCreate()\n",
    "\n",
    "# Verify connection to Hive\n",
    "spark.sql(\"SHOW DATABASES\").show()"
   ]
  },
  {
   "cell_type": "code",
   "execution_count": 2,
   "id": "f36a57bb",
   "metadata": {},
   "outputs": [],
   "source": [
    "# Read parquet data\n",
    "parquet_df = spark.read.parquet(\n",
    "    \"s3a://polygon/unzipped/global_forex/day_aggs_v1/year=2024/month=02/day=02/2024-02-02.parquet\"\n",
    ")\n"
   ]
  },
  {
   "cell_type": "code",
   "execution_count": null,
   "id": "e3c0dd5d",
   "metadata": {},
   "outputs": [],
   "source": [
    "\n",
    "    \n",
    "\n",
    "        #.config(\"javax.jdo.option.ConnectionURL\", \"jdbc:postgresql://hive-postgres:5432/metastore?createDatabaseIfNotExist=false\") \\\n",
    "    #.config(\"javax.jdo.option.ConnectionDriverName\", \"com.mysql.jdbc.Driver\") \\\n",
    "    #.config(\"javax.jdo.option.ConnectionUserName\", \"postgres\") \\\n",
    "    #.config(\"javax.jdo.option.ConnectionPassword\", \"password\") \\"
   ]
  },
  {
   "cell_type": "code",
   "execution_count": null,
   "id": "d1143fac",
   "metadata": {},
   "outputs": [],
   "source": [
    "# Choose a database and list its tables\n",
    "database_name = \"default\"  # Replace with your database name\n",
    "spark.sql(f\"USE {database_name}\")\n",
    "print(f\"Tables in database {database_name}:\")\n",
    "spark.sql(\"SHOW TABLES\").show()\n",
    "\n",
    "# Query a Hive table\n",
    "table_name = \"forex_all_day_aggs\"  # Replace with your table name\n",
    "print(f\"Previewing data from table {table_name}:\")\n",
    "hive_df = spark.sql(f\"SELECT * FROM {table_name} LIMIT 10\")\n",
    "hive_df.show()\n",
    "\n",
    "#Perform operations on the data\n",
    "# Example: Count the number of rows in the table\n",
    "row_count = hive_df.count()\n",
    "print(f\"Number of rows in table {table_name}: {row_count}\")\n",
    "\n",
    "# Stop the Spark session\n",
    "spark.stop()"
   ]
  }
 ],
 "metadata": {
  "kernelspec": {
   "display_name": "Python 3 (ipykernel)",
   "language": "python",
   "name": "python3"
  }
 },
 "nbformat": 4,
 "nbformat_minor": 5
}
