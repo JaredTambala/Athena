{
 "cells": [
  {
   "cell_type": "code",
   "execution_count": 27,
   "id": "790119f6-db55-40b4-85ee-a7e70979ff31",
   "metadata": {},
   "outputs": [],
   "source": [
    "import pyspark\n",
    "from pyspark.sql import SparkSession\n",
    "# Catalog name\n",
    "catalog_name = \"iceberg\"\n",
    "# Database name\n",
    "db_name = \"dev\"\n",
    "# Table name\n",
    "table_name = \"forex_minute_aggs\"\n",
    "# Env vars\n",
    "s3_user = \"jared\"\n",
    "s3_password = \"password\"\n",
    "# Schema\n",
    "from pyspark.sql import Row\n",
    "from pyspark.sql.types import *\n",
    "forex_schema = StructType(\n",
    "    [\n",
    "        StructField(\"ticker\", StringType(), True),\n",
    "        StructField(\"volume\", LongType(), True),\n",
    "        StructField(\"open\", DoubleType(), True),\n",
    "        StructField(\"close\", DoubleType(), True),\n",
    "        StructField(\"high\", DoubleType(), True),\n",
    "        StructField(\"low\", DoubleType(), True),\n",
    "        StructField(\"window_start_ns\", LongType(), True),\n",
    "        StructField(\"transactions\", LongType(), True),\n",
    "        StructField(\"date_time\", StringType(), True),\n",
    "        StructField(\"year\", IntegerType(), True),\n",
    "        StructField(\"month\", IntegerType(), True),\n",
    "        StructField(\"day\", IntegerType(), True),\n",
    "    ]\n",
    ")\n",
    "# Source data location\n",
    "source_loc = \"s3a://polygon/unzipped/global_forex/minute_aggs_v1/\""
   ]
  },
  {
   "cell_type": "code",
   "execution_count": 28,
   "id": "3b63ff6d-bef9-4919-a37b-4edc940599fb",
   "metadata": {},
   "outputs": [
    {
     "name": "stdout",
     "output_type": "stream",
     "text": [
      "+---------+\n",
      "|namespace|\n",
      "+---------+\n",
      "|  default|\n",
      "+---------+\n",
      "\n"
     ]
    }
   ],
   "source": [
    "# Initialize Spark Session with Hive support\n",
    "spark = SparkSession.builder \\\n",
    "    .appName(\"SparkHiveMinIO\") \\\n",
    "    .master(\"spark://spark-master:7077\") \\\n",
    "    .config(\"spark.hadoop.hive.metastore.uris\", \"thrift://hive-metastore:9083\") \\\n",
    "    .config(\"spark.metastore.warehouse.dir\", \"s3a://hive\") \\\n",
    "    .config(\"spark.hadoop.fs.s3a.aws.credentials.provider\", \"org.apache.hadoop.fs.s3a.SimpleAWSCredentialsProvider\") \\\n",
    "    .config(\"spark.hadoop.fs.s3a.impl\", \"org.apache.hadoop.fs.s3a.S3AFileSystem\") \\\n",
    "    .config(\"spark.hadoop.fs.s3a.access.key\", s3_user) \\\n",
    "    .config(\"spark.hadoop.fs.s3a.secret.key\", s3_password) \\\n",
    "    .config(\"spark.hadoop.fs.s3a.endpoint\", \"http://minio:9000\") \\\n",
    "    .config(\"spark.hadoop.fs.s3a.connection.ssl.enabled\", \"false\") \\\n",
    "    .config(\"spark.hadoop.fs.s3a.path.style.access\", \"true\") \\\n",
    "    .config(\"spark.jars.packages\", \"org.apache.hadoop:hadoop-aws:3.3.4,com.amazonaws:aws-java-sdk-bundle:1.12.603,org.apache.iceberg:iceberg-spark-runtime-3.3_2.12:1.2.1\") \\\n",
    "    .config(\"spark.sql.parquet.enableVectorizedReader\", \"true\") \\\n",
    "    .config(f\"spark.sql.catalog.{catalog_name}\", \"org.apache.iceberg.spark.SparkCatalog\") \\\n",
    "    .config(f\"spark.sql.catalog.{catalog_name}.type\", \"hive\") \\\n",
    "    .config(f\"spark.sql.catalog.{catalog_name}.uri\", \"thrift://hive-metastore:9083\") \\\n",
    "    .config(f\"spark.sql.catalog.{catalog_name}.warehouse\", \"s3a://iceberg/\") \\\n",
    "    .config(f\"spark.sql.catalog.{catalog_name}.fs.s3a.impl\", \"org.apache.hadoop.fs.s3a.S3AFileSystem\") \\\n",
    "    .config(f\"spark.sql.catalog.{catalog_name}.fs.s3a.access.key\", s3_user) \\\n",
    "    .config(f\"spark.sql.catalog.{catalog_name}.fs.s3a.secret.key\", s3_password) \\\n",
    "    .getOrCreate()\n",
    "\n",
    "# Verify connection to Spark/Hive\n",
    "spark.sql(\"SHOW DATABASES\").show()\n",
    "sc = spark.sparkContext\n",
    "sc.setLogLevel(\"DEBUG\")"
   ]
  },
  {
   "cell_type": "code",
   "execution_count": 29,
   "id": "75b32fbf-96f8-48df-9f8f-d7fd344d6467",
   "metadata": {},
   "outputs": [
    {
     "name": "stdout",
     "output_type": "stream",
     "text": [
      "Reading files from object storage...\n",
      "Dataframe created.\n"
     ]
    }
   ],
   "source": [
    "# Read all files from location\n",
    "print(\"Reading files from object storage...\")\n",
    "parquet_df = spark.read.schema(forex_schema).parquet(source_loc)\n",
    "print(\"Dataframe created.\")"
   ]
  },
  {
   "cell_type": "code",
   "execution_count": 30,
   "id": "975306f0-bf2c-4837-ab1d-047085f68199",
   "metadata": {},
   "outputs": [
    {
     "data": {
      "text/plain": [
       "DataFrame[]"
      ]
     },
     "execution_count": 30,
     "metadata": {},
     "output_type": "execute_result"
    }
   ],
   "source": [
    "# Create tables\n",
    "spark.sql(\n",
    "    f\"\"\"\n",
    "    CREATE DATABASE IF NOT EXISTS {catalog_name}.{db_name}\n",
    "    \"\"\"\n",
    ")\n",
    "spark.sql(\n",
    "    f\"\"\"\n",
    "    CREATE TABLE IF NOT EXISTS {catalog_name}.{db_name}.{table_name} (\n",
    "        ticker string,\n",
    "        volume integer,\n",
    "        open double,\n",
    "        close double,\n",
    "        high double,\n",
    "        low double,\n",
    "        window_start_ns long,\n",
    "        transactions long,\n",
    "        date_time string,\n",
    "        year integer,\n",
    "        month integer,\n",
    "        day integer\n",
    "    )\n",
    "    USING iceberg\n",
    "    PARTITIONED BY (ticker);\n",
    "    \"\"\"\n",
    ")"
   ]
  },
  {
   "cell_type": "code",
   "execution_count": null,
   "id": "f05eb6e7-295c-425b-a5b9-51124e367463",
   "metadata": {},
   "outputs": [],
   "source": [
    "parquet_df.cache()"
   ]
  },
  {
   "cell_type": "code",
   "execution_count": 31,
   "id": "a6b8f9d2-6f47-4073-b8e7-534ed7c00111",
   "metadata": {},
   "outputs": [],
   "source": [
    "# Write files to Iceberg table\n",
    "parquet_df.write.format(\"iceberg\").mode(\"overwrite\").save(f\"{catalog_name}.{db_name}.{table_name}\")"
   ]
  },
  {
   "cell_type": "code",
   "execution_count": 24,
   "id": "ceb3b6a8-51c0-4e1f-97b6-99f0a9beb461",
   "metadata": {},
   "outputs": [
    {
     "data": {
      "text/plain": [
       "DataFrame[]"
      ]
     },
     "execution_count": 24,
     "metadata": {},
     "output_type": "execute_result"
    }
   ],
   "source": [
    "#spark.sql(\n",
    "#    f\"\"\"\n",
    "#    DROP TABLE IF EXISTS {catalog_name}.{db_name}.{table_name};\n",
    "#    \"\"\"\n",
    "#)\n",
    "#spark.sql(\n",
    "#    f\"\"\"\n",
    "#    DROP DATABASE IF EXISTS {catalog_name}.{db_name} CASCADE;\n",
    "#    \"\"\"\n",
    "#)"
   ]
  },
  {
   "cell_type": "code",
   "execution_count": null,
   "id": "c4f6e792-b290-4c3e-b51f-04fec2623c10",
   "metadata": {},
   "outputs": [],
   "source": []
  }
 ],
 "metadata": {
  "kernelspec": {
   "display_name": "Python 3 (ipykernel)",
   "language": "python",
   "name": "python3"
  },
  "language_info": {
   "codemirror_mode": {
    "name": "ipython",
    "version": 3
   },
   "file_extension": ".py",
   "mimetype": "text/x-python",
   "name": "python",
   "nbconvert_exporter": "python",
   "pygments_lexer": "ipython3",
   "version": "3.11.6"
  }
 },
 "nbformat": 4,
 "nbformat_minor": 5
}
