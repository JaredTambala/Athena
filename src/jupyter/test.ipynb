{
 "cells": [
  {
   "cell_type": "code",
   "execution_count": 9,
   "metadata": {},
   "outputs": [
    {
     "name": "stdout",
     "output_type": "stream",
     "text": [
      "timestamp_ns           int64\n",
      "readable_timestamp    object\n",
      "dtype: object           timestamp_ns   readable_timestamp\n",
      "0  1733104800000000000  2024-12-02 02:00:00\n"
     ]
    }
   ],
   "source": [
    "import pandas as pd\n",
    "\n",
    "# Example DataFrame\n",
    "data = {'timestamp_ns': [1733104800000000000]}\n",
    "df = pd.DataFrame(data)\n",
    "\n",
    "# Convert nanoseconds to a readable timestamp\n",
    "df['readable_timestamp'] = pd.to_datetime(df['timestamp_ns'], unit='ns').dt.strftime(\"%Y-%m-%d %H:%M:%S%z\")\n",
    "\n",
    "print(df.dtypes, df)"
   ]
  },
  {
   "cell_type": "code",
   "execution_count": null,
   "metadata": {},
   "outputs": [],
   "source": []
  }
 ],
 "metadata": {
  "kernelspec": {
   "display_name": "Python 3 (ipykernel)",
   "language": "python",
   "name": "python3"
  }
 },
 "nbformat": 4,
 "nbformat_minor": 2
}
